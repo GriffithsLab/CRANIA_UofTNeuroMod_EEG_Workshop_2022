{
 "cells": [
  {
   "cell_type": "code",
   "execution_count": 1,
   "metadata": {},
   "outputs": [],
   "source": [
    "%matplotlib inline"
   ]
  },
  {
   "cell_type": "markdown",
   "metadata": {},
   "source": [
    "\n",
    "\n",
    "# Frequency and time-frequency sensor analysis\n",
    "\n",
    "The objective is to show you how to explore the spectral content\n",
    "of your data (frequency and time-frequency). Here we'll work on Epochs.\n",
    "\n",
    "We will use this dataset: `somato-dataset`. It contains so-called event\n",
    "related synchronizations (ERS) / desynchronizations (ERD) in the beta band.\n"
   ]
  },
  {
   "cell_type": "code",
   "execution_count": 2,
   "metadata": {},
   "outputs": [],
   "source": [
    "# Authors: Alexandre Gramfort <alexandre.gramfort@inria.fr>\n",
    "#          Stefan Appelhoff <stefan.appelhoff@mailbox.org>\n",
    "#          Richard Höchenberger <richard.hoechenberger@gmail.com>\n",
    "#\n",
    "# License: BSD-3-Clause"
   ]
  },
  {
   "cell_type": "code",
   "execution_count": 3,
   "metadata": {},
   "outputs": [],
   "source": [
    "import os.path as op\n",
    "\n",
    "import numpy as np\n",
    "import matplotlib.pyplot as plt\n",
    "\n",
    "import mne\n",
    "from mne.time_frequency import tfr_morlet, psd_multitaper, psd_welch\n",
    "from mne.datasets import somato"
   ]
  },
  {
   "cell_type": "markdown",
   "metadata": {},
   "source": [
    "Set parameters\n",
    "\n"
   ]
  },
  {
   "cell_type": "code",
   "execution_count": 4,
   "metadata": {},
   "outputs": [
    {
     "name": "stdout",
     "output_type": "stream",
     "text": [
      " Volume in drive C is Windows\n",
      " Volume Serial Number is BE3E-44F9\n",
      "\n",
      " Directory of C:\\Users\\john_griffiths\\Desktop\\eeg_workshop_sess3\\new_nbs\n",
      "\n",
      "07/27/2022  03:29 AM    <DIR>          .\n",
      "07/27/2022  03:29 AM    <DIR>          ..\n",
      "07/27/2022  03:20 AM    <DIR>          .ipynb_checkpoints\n",
      "07/27/2022  03:27 AM            16,455 jg_20_sensors_time_frequency.ipynb\n",
      "07/27/2022  03:09 AM         2,139,340 jg_30_eeg_erp.ipynb\n",
      "07/27/2022  03:19 AM           774,268 jg_30_mne_dspm_loreta.ipynb\n",
      "07/27/2022  03:29 AM            34,210 jg_40_cluster_1samp_time_freq.ipynb\n",
      "07/27/2022  03:28 AM           227,463 jg_60_sleep.ipynb\n",
      "07/27/2022  02:35 AM             8,578 jg_mne_inverse_envelope_correlation.ipynb\n",
      "07/27/2022  02:49 AM           341,994 jg_mne_inverse_label_connectivity.ipynb\n",
      "07/27/2022  02:32 AM    <DIR>          old\n",
      "               7 File(s)      3,542,308 bytes\n",
      "               4 Dir(s)   4,920,209,408 bytes free\n"
     ]
    }
   ],
   "source": [
    "ls"
   ]
  },
  {
   "cell_type": "code",
   "execution_count": 6,
   "metadata": {},
   "outputs": [
    {
     "data": {
      "text/plain": [
       "MNEWindowsPath('C:/Users/john_griffiths/mne_data/MNE-somato-data')"
      ]
     },
     "execution_count": 6,
     "metadata": {},
     "output_type": "execute_result"
    }
   ],
   "source": [
    "data_path."
   ]
  },
  {
   "cell_type": "code",
   "execution_count": 8,
   "metadata": {},
   "outputs": [],
   "source": [
    "import glob"
   ]
  },
  {
   "cell_type": "code",
   "execution_count": 12,
   "metadata": {},
   "outputs": [
    {
     "name": "stderr",
     "output_type": "stream",
     "text": [
      "C:\\Users\\john_griffiths\\AppData\\Local\\Temp/ipykernel_21032/1724154986.py:1: DeprecationWarning: data_path functions now return pathlib.Path objects which do not natively support the plus (+) operator, switch to using forward slash (/) instead. Support for plus will be removed in 1.2.\n",
      "  data_path = glob.glob(data_path + '/*')\n"
     ]
    }
   ],
   "source": [
    "data_path = glob.glob(data_path + '/*')"
   ]
  },
  {
   "cell_type": "code",
   "execution_count": 16,
   "metadata": {},
   "outputs": [
    {
     "name": "stderr",
     "output_type": "stream",
     "text": [
      "C:\\Users\\john_griffiths\\AppData\\Local\\Temp/ipykernel_21032/3195074955.py:1: DeprecationWarning: data_path functions now return pathlib.Path objects which do not natively support the plus (+) operator, switch to using forward slash (/) instead. Support for plus will be removed in 1.2.\n",
      "  glob.glob(data_path + '/*')\n"
     ]
    },
    {
     "data": {
      "text/plain": [
       "['C:\\\\Users\\\\john_griffiths\\\\mne_data\\\\MNE-somato-data\\\\CHANGES',\n",
       " 'C:\\\\Users\\\\john_griffiths\\\\mne_data\\\\MNE-somato-data\\\\code',\n",
       " 'C:\\\\Users\\\\john_griffiths\\\\mne_data\\\\MNE-somato-data\\\\dataset_description.json',\n",
       " 'C:\\\\Users\\\\john_griffiths\\\\mne_data\\\\MNE-somato-data\\\\derivatives',\n",
       " 'C:\\\\Users\\\\john_griffiths\\\\mne_data\\\\MNE-somato-data\\\\participants.json',\n",
       " 'C:\\\\Users\\\\john_griffiths\\\\mne_data\\\\MNE-somato-data\\\\participants.tsv',\n",
       " 'C:\\\\Users\\\\john_griffiths\\\\mne_data\\\\MNE-somato-data\\\\README']"
      ]
     },
     "execution_count": 16,
     "metadata": {},
     "output_type": "execute_result"
    }
   ],
   "source": [
    "glob.glob(data_path + '/*')"
   ]
  },
  {
   "cell_type": "code",
   "execution_count": 13,
   "metadata": {},
   "outputs": [
    {
     "ename": "NameError",
     "evalue": "name 'raw_fname' is not defined",
     "output_type": "error",
     "traceback": [
      "\u001b[1;31m---------------------------------------------------------------------------\u001b[0m",
      "\u001b[1;31mNameError\u001b[0m                                 Traceback (most recent call last)",
      "\u001b[1;32m~\\AppData\\Local\\Temp/ipykernel_21032/3357588687.py\u001b[0m in \u001b[0;36m<module>\u001b[1;34m\u001b[0m\n\u001b[0;32m      7\u001b[0m \u001b[1;33m\u001b[0m\u001b[0m\n\u001b[0;32m      8\u001b[0m \u001b[1;31m# Setup for reading the raw data\u001b[0m\u001b[1;33m\u001b[0m\u001b[1;33m\u001b[0m\u001b[1;33m\u001b[0m\u001b[0m\n\u001b[1;32m----> 9\u001b[1;33m \u001b[0mraw\u001b[0m \u001b[1;33m=\u001b[0m \u001b[0mmne\u001b[0m\u001b[1;33m.\u001b[0m\u001b[0mio\u001b[0m\u001b[1;33m.\u001b[0m\u001b[0mread_raw_fif\u001b[0m\u001b[1;33m(\u001b[0m\u001b[0mraw_fname\u001b[0m\u001b[1;33m)\u001b[0m\u001b[1;33m\u001b[0m\u001b[1;33m\u001b[0m\u001b[0m\n\u001b[0m\u001b[0;32m     10\u001b[0m \u001b[1;31m# crop and resample just to reduce computation time\u001b[0m\u001b[1;33m\u001b[0m\u001b[1;33m\u001b[0m\u001b[1;33m\u001b[0m\u001b[0m\n\u001b[0;32m     11\u001b[0m \u001b[0mraw\u001b[0m\u001b[1;33m.\u001b[0m\u001b[0mcrop\u001b[0m\u001b[1;33m(\u001b[0m\u001b[1;36m120\u001b[0m\u001b[1;33m,\u001b[0m \u001b[1;36m360\u001b[0m\u001b[1;33m)\u001b[0m\u001b[1;33m.\u001b[0m\u001b[0mload_data\u001b[0m\u001b[1;33m(\u001b[0m\u001b[1;33m)\u001b[0m\u001b[1;33m.\u001b[0m\u001b[0mresample\u001b[0m\u001b[1;33m(\u001b[0m\u001b[1;36m200\u001b[0m\u001b[1;33m)\u001b[0m\u001b[1;33m\u001b[0m\u001b[1;33m\u001b[0m\u001b[0m\n",
      "\u001b[1;31mNameError\u001b[0m: name 'raw_fname' is not defined"
     ]
    }
   ],
   "source": [
    "data_path = somato.data_path()\n",
    "subject = '01'\n",
    "task = 'somato'\n",
    "#raw_fname = op.join(data_path, 'sub-{}_task-{}_meg.fif'.format(subject).format(task))\n",
    "## 'meg',\\\\\\\\] 'sub-{}_task-{}_meg.fif'.format(subject, task))\n",
    "#                    .format(subject))\n",
    "\n",
    "# Setup for reading the raw data\n",
    "raw = mne.io.read_raw_fif(raw_fname)\n",
    "# crop and resample just to reduce computation time\n",
    "raw.crop(120, 360).load_data().resample(200)\n",
    "events = mne.find_events(raw, stim_channel='STI 014')\n",
    "\n",
    "# picks MEG gradiometers\n",
    "picks = mne.pick_types(raw.info, meg='grad', eeg=False, eog=True, stim=False)\n",
    "\n",
    "# Construct Epochs\n",
    "event_id, tmin, tmax = 1, -1., 3.\n",
    "baseline = (None, 0)\n",
    "epochs = mne.Epochs(raw, events, event_id, tmin, tmax, picks=picks,\n",
    "                    baseline=baseline, reject=dict(grad=4000e-13, eog=350e-6),\n",
    "                    preload=True)"
   ]
  },
  {
   "cell_type": "markdown",
   "metadata": {},
   "source": [
    "## Frequency analysis\n",
    "\n",
    "We start by exploring the frequency content of our epochs.\n",
    "\n"
   ]
  },
  {
   "cell_type": "markdown",
   "metadata": {},
   "source": [
    "Let's first check out all channel types by averaging across epochs.\n",
    "\n"
   ]
  },
  {
   "cell_type": "code",
   "execution_count": 12,
   "metadata": {},
   "outputs": [
    {
     "ename": "NameError",
     "evalue": "name 'epochs' is not defined",
     "output_type": "error",
     "traceback": [
      "\u001b[1;31m---------------------------------------------------------------------------\u001b[0m",
      "\u001b[1;31mNameError\u001b[0m                                 Traceback (most recent call last)",
      "\u001b[1;32m~\\AppData\\Local\\Temp/ipykernel_11800/200655693.py\u001b[0m in \u001b[0;36m<module>\u001b[1;34m\u001b[0m\n\u001b[1;32m----> 1\u001b[1;33m \u001b[0mepochs\u001b[0m\u001b[1;33m.\u001b[0m\u001b[0mplot_psd\u001b[0m\u001b[1;33m(\u001b[0m\u001b[0mfmin\u001b[0m\u001b[1;33m=\u001b[0m\u001b[1;36m2.\u001b[0m\u001b[1;33m,\u001b[0m \u001b[0mfmax\u001b[0m\u001b[1;33m=\u001b[0m\u001b[1;36m40.\u001b[0m\u001b[1;33m,\u001b[0m \u001b[0maverage\u001b[0m\u001b[1;33m=\u001b[0m\u001b[1;32mTrue\u001b[0m\u001b[1;33m,\u001b[0m \u001b[0mspatial_colors\u001b[0m\u001b[1;33m=\u001b[0m\u001b[1;32mFalse\u001b[0m\u001b[1;33m)\u001b[0m\u001b[1;33m\u001b[0m\u001b[1;33m\u001b[0m\u001b[0m\n\u001b[0m",
      "\u001b[1;31mNameError\u001b[0m: name 'epochs' is not defined"
     ]
    }
   ],
   "source": [
    "epochs.plot_psd(fmin=2., fmax=40., average=True, spatial_colors=False)"
   ]
  },
  {
   "cell_type": "markdown",
   "metadata": {},
   "source": [
    "Now, let's take a look at the spatial distributions of the PSD, averaged\n",
    "across epochs and frequency bands.\n",
    "\n"
   ]
  },
  {
   "cell_type": "code",
   "execution_count": null,
   "metadata": {},
   "outputs": [],
   "source": [
    "epochs.plot_psd_topomap(ch_type='grad', normalize=False)"
   ]
  },
  {
   "cell_type": "markdown",
   "metadata": {},
   "source": [
    "Alternatively, you can also create PSDs from `~mne.Epochs` with functions\n",
    "that start with ``psd_`` such as\n",
    ":func:`mne.time_frequency.psd_multitaper` and\n",
    ":func:`mne.time_frequency.psd_welch`.\n",
    "\n",
    "<div class=\"alert alert-info\"><h4>Note</h4><p>In contrast to the methods for visualization, those ``psd_*`` functions do\n",
    "   **not** scale the data from SI units to more \"convenient\" values. So when\n",
    "   e.g. calculating the PSD of gradiometers via\n",
    "   :func:`~mne.time_frequency.psd_multitaper`, you will get the power as\n",
    "   ``(T/m)²/Hz`` (instead of ``(fT/cm)²/Hz`` via\n",
    "   :meth:`~mne.Epochs.plot_psd`).</p></div>\n",
    "\n"
   ]
  },
  {
   "cell_type": "code",
   "execution_count": null,
   "metadata": {},
   "outputs": [],
   "source": [
    "f, ax = plt.subplots()\n",
    "psds, freqs = psd_multitaper(epochs, fmin=2, fmax=40, n_jobs=1)\n",
    "psds = 10 * np.log10(psds)  # convert to dB\n",
    "psds_mean = psds.mean(0).mean(0)\n",
    "psds_std = psds.mean(0).std(0)\n",
    "\n",
    "ax.plot(freqs, psds_mean, color='k')\n",
    "ax.fill_between(freqs, psds_mean - psds_std, psds_mean + psds_std,\n",
    "                color='k', alpha=.5)\n",
    "ax.set(title='Multitaper PSD (gradiometers)', xlabel='Frequency (Hz)',\n",
    "       ylabel='Power Spectral Density (dB)')\n",
    "plt.show()"
   ]
  },
  {
   "cell_type": "markdown",
   "metadata": {},
   "source": [
    "Notably, :func:`mne.time_frequency.psd_welch` supports the keyword argument\n",
    "``average``, which specifies how to estimate the PSD based on the individual\n",
    "windowed segments. The default is ``average='mean'``, which simply calculates\n",
    "the arithmetic mean across segments. Specifying ``average='median'``, in\n",
    "contrast, returns the PSD based on the median of the segments (corrected for\n",
    "bias relative to the mean), which is a more robust measure.\n",
    "\n"
   ]
  },
  {
   "cell_type": "code",
   "execution_count": null,
   "metadata": {},
   "outputs": [],
   "source": [
    "# Estimate PSDs based on \"mean\" and \"median\" averaging for comparison.\n",
    "kwargs = dict(fmin=2, fmax=40, n_jobs=1)\n",
    "psds_welch_mean, freqs_mean = psd_welch(epochs, average='mean', **kwargs)\n",
    "psds_welch_median, freqs_median = psd_welch(epochs, average='median', **kwargs)\n",
    "\n",
    "# Convert power to dB scale.\n",
    "psds_welch_mean = 10 * np.log10(psds_welch_mean)\n",
    "psds_welch_median = 10 * np.log10(psds_welch_median)\n",
    "\n",
    "# We will only plot the PSD for a single sensor in the first epoch.\n",
    "ch_name = 'MEG 0122'\n",
    "ch_idx = epochs.info['ch_names'].index(ch_name)\n",
    "epo_idx = 0\n",
    "\n",
    "_, ax = plt.subplots()\n",
    "ax.plot(freqs_mean, psds_welch_mean[epo_idx, ch_idx, :], color='k',\n",
    "        ls='-', label='mean of segments')\n",
    "ax.plot(freqs_median, psds_welch_median[epo_idx, ch_idx, :], color='k',\n",
    "        ls='--', label='median of segments')\n",
    "\n",
    "ax.set(title='Welch PSD ({}, Epoch {})'.format(ch_name, epo_idx),\n",
    "       xlabel='Frequency (Hz)', ylabel='Power Spectral Density (dB)')\n",
    "ax.legend(loc='upper right')\n",
    "plt.show()"
   ]
  },
  {
   "cell_type": "markdown",
   "metadata": {},
   "source": [
    "Lastly, we can also retrieve the unaggregated segments by passing\n",
    "``average=None`` to :func:`mne.time_frequency.psd_welch`. The dimensions of\n",
    "the returned array are ``(n_epochs, n_sensors, n_freqs, n_segments)``.\n",
    "\n"
   ]
  },
  {
   "cell_type": "code",
   "execution_count": null,
   "metadata": {},
   "outputs": [],
   "source": [
    "psds_welch_unagg, freqs_unagg = psd_welch(epochs, average=None, **kwargs)\n",
    "print(psds_welch_unagg.shape)"
   ]
  },
  {
   "cell_type": "markdown",
   "metadata": {},
   "source": [
    "\n",
    "## Time-frequency analysis: power and inter-trial coherence\n",
    "\n",
    "We now compute time-frequency representations (TFRs) from our Epochs.\n",
    "We'll look at power and inter-trial coherence (ITC).\n",
    "\n",
    "To this we'll use the function :func:`mne.time_frequency.tfr_morlet`\n",
    "but you can also use :func:`mne.time_frequency.tfr_multitaper`\n",
    "or :func:`mne.time_frequency.tfr_stockwell`.\n",
    "\n",
    "<div class=\"alert alert-info\"><h4>Note</h4><p>The ``decim`` parameter reduces the sampling rate of the time-frequency\n",
    "      decomposition by the defined factor. This is usually done to reduce\n",
    "      memory usage. For more information refer to the documentation of\n",
    "      :func:`mne.time_frequency.tfr_morlet`.</p></div>\n",
    "\n",
    "define frequencies of interest (log-spaced)\n",
    "\n"
   ]
  },
  {
   "cell_type": "code",
   "execution_count": null,
   "metadata": {},
   "outputs": [],
   "source": [
    "freqs = np.logspace(*np.log10([6, 35]), num=8)\n",
    "n_cycles = freqs / 2.  # different number of cycle per frequency\n",
    "power, itc = tfr_morlet(epochs, freqs=freqs, n_cycles=n_cycles, use_fft=True,\n",
    "                        return_itc=True, decim=3, n_jobs=1)"
   ]
  },
  {
   "cell_type": "markdown",
   "metadata": {},
   "source": [
    "## Inspect power\n",
    "\n",
    "<div class=\"alert alert-info\"><h4>Note</h4><p>The generated figures are interactive. In the topo you can click\n",
    "    on an image to visualize the data for one sensor.\n",
    "    You can also select a portion in the time-frequency plane to\n",
    "    obtain a topomap for a certain time-frequency region.</p></div>\n",
    "\n"
   ]
  },
  {
   "cell_type": "code",
   "execution_count": null,
   "metadata": {},
   "outputs": [],
   "source": [
    "power.plot_topo(baseline=(-0.5, 0), mode='logratio', title='Average power')\n",
    "power.plot([82], baseline=(-0.5, 0), mode='logratio', title=power.ch_names[82])\n",
    "\n",
    "fig, axis = plt.subplots(1, 2, figsize=(7, 4))\n",
    "power.plot_topomap(ch_type='grad', tmin=0.5, tmax=1.5, fmin=8, fmax=12,\n",
    "                   baseline=(-0.5, 0), mode='logratio', axes=axis[0],\n",
    "                   title='Alpha', show=False)\n",
    "power.plot_topomap(ch_type='grad', tmin=0.5, tmax=1.5, fmin=13, fmax=25,\n",
    "                   baseline=(-0.5, 0), mode='logratio', axes=axis[1],\n",
    "                   title='Beta', show=False)\n",
    "mne.viz.tight_layout()\n",
    "plt.show()"
   ]
  },
  {
   "cell_type": "markdown",
   "metadata": {},
   "source": [
    "## Joint Plot\n",
    "You can also create a joint plot showing both the aggregated TFR\n",
    "across channels and topomaps at specific times and frequencies to obtain\n",
    "a quick overview regarding oscillatory effects across time and space.\n",
    "\n"
   ]
  },
  {
   "cell_type": "code",
   "execution_count": null,
   "metadata": {},
   "outputs": [],
   "source": [
    "power.plot_joint(baseline=(-0.5, 0), mode='mean', tmin=-.5, tmax=2,\n",
    "                 timefreqs=[(.5, 10), (1.3, 8)])"
   ]
  },
  {
   "cell_type": "markdown",
   "metadata": {},
   "source": [
    "## Inspect ITC\n",
    "\n"
   ]
  },
  {
   "cell_type": "code",
   "execution_count": null,
   "metadata": {},
   "outputs": [],
   "source": [
    "itc.plot_topo(title='Inter-Trial coherence', vmin=0., vmax=1., cmap='Reds')"
   ]
  },
  {
   "cell_type": "markdown",
   "metadata": {},
   "source": [
    "<div class=\"alert alert-info\"><h4>Note</h4><p>Baseline correction can be applied to power or done in plots.\n",
    "    To illustrate the baseline correction in plots, the next line is\n",
    "    commented power.apply_baseline(baseline=(-0.5, 0), mode='logratio')</p></div>\n",
    "\n",
    "## Exercise\n",
    "\n",
    "   - Visualize the inter-trial coherence values as topomaps as done with\n",
    "     power.\n",
    "\n"
   ]
  },
  {
   "cell_type": "code",
   "execution_count": null,
   "metadata": {},
   "outputs": [],
   "source": []
  }
 ],
 "metadata": {
  "kernelspec": {
   "display_name": "mne",
   "language": "python",
   "name": "mne"
  },
  "language_info": {
   "codemirror_mode": {
    "name": "ipython",
    "version": 3
   },
   "file_extension": ".py",
   "mimetype": "text/x-python",
   "name": "python",
   "nbconvert_exporter": "python",
   "pygments_lexer": "ipython3",
   "version": "3.9.6"
  }
 },
 "nbformat": 4,
 "nbformat_minor": 1
}
