{
 "cells": [
  {
   "cell_type": "code",
   "execution_count": 1,
   "metadata": {},
   "outputs": [],
   "source": [
    "%matplotlib inline"
   ]
  },
  {
   "cell_type": "markdown",
   "metadata": {},
   "source": [
    "\n",
    "\n",
    "# Non-parametric 1 sample cluster statistic on single trial power\n",
    "\n",
    "This script shows how to estimate significant clusters\n",
    "in time-frequency power estimates. It uses a non-parametric\n",
    "statistical procedure based on permutations and cluster\n",
    "level statistics.\n",
    "\n",
    "The procedure consists of:\n",
    "\n",
    "  - extracting epochs\n",
    "  - compute single trial power estimates\n",
    "  - baseline line correct the power estimates (power ratios)\n",
    "  - compute stats to see if ratio deviates from 1.\n",
    "\n",
    "Here, the unit of observation is epochs from a specific study subject.\n",
    "However, the same logic applies when the unit of observation is\n",
    "a number of study subjects each of whom contribute their own averaged\n",
    "data (i.e., an average of their epochs). This would then be considered\n",
    "an analysis at the \"2nd level\".\n",
    "\n",
    "For more information on cluster-based permutation testing in MNE-Python,\n",
    "see also: `tut-cluster-spatiotemporal-sensor`\n"
   ]
  },
  {
   "cell_type": "code",
   "execution_count": 26,
   "metadata": {},
   "outputs": [],
   "source": [
    "# Authors: Alexandre Gramfort <alexandre.gramfort@inria.fr>\n",
    "#          Stefan Appelhoff <stefan.appelhoff@mailbox.org>\n",
    "#\n",
    "# License: BSD-3-Clause"
   ]
  },
  {
   "cell_type": "code",
   "execution_count": 27,
   "metadata": {},
   "outputs": [],
   "source": [
    "import numpy as np\n",
    "import matplotlib.pyplot as plt\n",
    "import scipy.stats\n",
    "\n",
    "import mne\n",
    "from mne.time_frequency import tfr_morlet\n",
    "from mne.stats import permutation_cluster_1samp_test\n",
    "from mne.datasets import sample"
   ]
  },
  {
   "cell_type": "markdown",
   "metadata": {},
   "source": [
    "## Set parameters\n",
    "\n"
   ]
  },
  {
   "cell_type": "code",
   "execution_count": 28,
   "metadata": {},
   "outputs": [
    {
     "name": "stdout",
     "output_type": "stream",
     "text": [
      "Opening raw data file C:\\Users\\john_griffiths\\mne_data\\MNE-sample-data\\MEG\\sample\\sample_audvis_raw.fif...\n",
      "    Read a total of 3 projection items:\n",
      "        PCA-v1 (1 x 102)  idle\n",
      "        PCA-v2 (1 x 102)  idle\n",
      "        PCA-v3 (1 x 102)  idle\n",
      "    Range : 25800 ... 192599 =     42.956 ...   320.670 secs\n",
      "Ready.\n",
      "320 events found\n",
      "Event IDs: [ 1  2  3  4  5 32]\n",
      "Not setting metadata\n",
      "72 matching events found\n",
      "Setting baseline interval to [-0.2996928197375818, 0.0] sec\n",
      "Applying baseline correction (mode: mean)\n",
      "3 projection items activated\n",
      "Loading data for 72 events and 541 original time points ...\n",
      "    Rejecting  epoch based on EOG : ['EOG 061']\n",
      "    Rejecting  epoch based on EOG : ['EOG 061']\n",
      "    Rejecting  epoch based on EOG : ['EOG 061']\n",
      "    Rejecting  epoch based on EOG : ['EOG 061']\n",
      "    Rejecting  epoch based on EOG : ['EOG 061']\n",
      "    Rejecting  epoch based on EOG : ['EOG 061']\n",
      "    Rejecting  epoch based on EOG : ['EOG 061']\n",
      "    Rejecting  epoch based on EOG : ['EOG 061']\n",
      "    Rejecting  epoch based on EOG : ['EOG 061']\n",
      "    Rejecting  epoch based on EOG : ['EOG 061']\n",
      "    Rejecting  epoch based on EOG : ['EOG 061']\n",
      "    Rejecting  epoch based on EOG : ['EOG 061']\n",
      "    Rejecting  epoch based on EOG : ['EOG 061']\n",
      "    Rejecting  epoch based on EOG : ['EOG 061']\n",
      "    Rejecting  epoch based on EOG : ['EOG 061']\n",
      "    Rejecting  epoch based on EOG : ['EOG 061']\n",
      "    Rejecting  epoch based on EOG : ['EOG 061']\n",
      "    Rejecting  epoch based on EOG : ['EOG 061']\n",
      "18 bad epochs dropped\n",
      "Removing projector <Projection | PCA-v1, active : True, n_channels : 102>\n",
      "Removing projector <Projection | PCA-v2, active : True, n_channels : 102>\n",
      "Removing projector <Projection | PCA-v3, active : True, n_channels : 102>\n",
      "Not setting metadata\n",
      "Applying baseline correction (mode: logratio)\n"
     ]
    }
   ],
   "source": [
    "data_path = sample.data_path()\n",
    "meg_path = data_path / 'MEG' / 'sample'\n",
    "raw_fname = meg_path / 'sample_audvis_raw.fif'\n",
    "tmin, tmax, event_id = -0.3, 0.6, 1\n",
    "\n",
    "# Setup for reading the raw data\n",
    "raw = mne.io.read_raw_fif(raw_fname)\n",
    "events = mne.find_events(raw, stim_channel='STI 014')\n",
    "\n",
    "include = []\n",
    "raw.info['bads'] += ['MEG 2443', 'EEG 053']  # bads + 2 more\n",
    "\n",
    "# picks MEG gradiometers\n",
    "picks = mne.pick_types(raw.info, meg='grad', eeg=False, eog=True,\n",
    "                       stim=False, include=include, exclude='bads')\n",
    "\n",
    "# Load condition 1\n",
    "event_id = 1\n",
    "epochs = mne.Epochs(raw, events, event_id, tmin, tmax, picks=picks,\n",
    "                    baseline=(None, 0), preload=True,\n",
    "                    reject=dict(grad=4000e-13, eog=150e-6))\n",
    "\n",
    "# just use right temporal sensors for speed\n",
    "epochs.pick_channels(mne.read_vectorview_selection('Right-temporal'))\n",
    "evoked = epochs.average()\n",
    "\n",
    "# Factor to down-sample the temporal dimension of the TFR computed by\n",
    "# tfr_morlet. Decimation occurs after frequency decomposition and can\n",
    "# be used to reduce memory usage (and possibly computational time of downstream\n",
    "# operations such as nonparametric statistics) if you don't need high\n",
    "# spectrotemporal resolution.\n",
    "decim = 5\n",
    "\n",
    "# define frequencies of interest\n",
    "freqs = np.arange(8, 40, 2)\n",
    "\n",
    "# run the TFR decomposition\n",
    "tfr_epochs = tfr_morlet(epochs, freqs, n_cycles=4., decim=decim,\n",
    "                        average=False, return_itc=False, n_jobs=1)\n",
    "\n",
    "# Baseline power\n",
    "tfr_epochs.apply_baseline(mode='logratio', baseline=(-.100, 0))\n",
    "\n",
    "# Crop in time to keep only what is between 0 and 400 ms\n",
    "evoked.crop(-0.1, 0.4)\n",
    "#tfr_epochs.crop(-0.1, 0.4)\n",
    "\n",
    "epochs_power = tfr_epochs.data"
   ]
  },
  {
   "cell_type": "markdown",
   "metadata": {},
   "source": [
    "## Define adjacency for statistics\n",
    "To perform a cluster-based permutation test, we need a suitable definition\n",
    "for the adjacency of sensors, time points, and frequency bins.\n",
    "The adjacency matrix will be used to form clusters.\n",
    "\n",
    "We first compute the sensor adjacency, and then combine that with a\n",
    "\"lattice\" adjacency for the time-frequency plane, which assumes\n",
    "that elements at index \"N\" are adjacent to elements at indices\n",
    "\"N + 1\" and \"N - 1\" (forming a \"grid\" on the time-frequency plane).\n",
    "\n"
   ]
  },
  {
   "cell_type": "code",
   "execution_count": 29,
   "metadata": {},
   "outputs": [
    {
     "data": {
      "text/plain": [
       "['MEG 0113',\n",
       " 'MEG 0112',\n",
       " 'MEG 0122',\n",
       " 'MEG 0123',\n",
       " 'MEG 0132',\n",
       " 'MEG 0133',\n",
       " 'MEG 0143',\n",
       " 'MEG 0142',\n",
       " 'MEG 0213',\n",
       " 'MEG 0212',\n",
       " 'MEG 0222',\n",
       " 'MEG 0223',\n",
       " 'MEG 0232',\n",
       " 'MEG 0233',\n",
       " 'MEG 0243',\n",
       " 'MEG 0242',\n",
       " 'MEG 0313',\n",
       " 'MEG 0312',\n",
       " 'MEG 0322',\n",
       " 'MEG 0323',\n",
       " 'MEG 0333',\n",
       " 'MEG 0332',\n",
       " 'MEG 0343',\n",
       " 'MEG 0342',\n",
       " 'MEG 0413',\n",
       " 'MEG 0412',\n",
       " 'MEG 0422',\n",
       " 'MEG 0423',\n",
       " 'MEG 0432',\n",
       " 'MEG 0433',\n",
       " 'MEG 0443',\n",
       " 'MEG 0442',\n",
       " 'MEG 0513',\n",
       " 'MEG 0512',\n",
       " 'MEG 0523',\n",
       " 'MEG 0522',\n",
       " 'MEG 0532',\n",
       " 'MEG 0533',\n",
       " 'MEG 0542',\n",
       " 'MEG 0543',\n",
       " 'MEG 0613',\n",
       " 'MEG 0612',\n",
       " 'MEG 0622',\n",
       " 'MEG 0623',\n",
       " 'MEG 0633',\n",
       " 'MEG 0632',\n",
       " 'MEG 0642',\n",
       " 'MEG 0643',\n",
       " 'MEG 0713',\n",
       " 'MEG 0712',\n",
       " 'MEG 0723',\n",
       " 'MEG 0722',\n",
       " 'MEG 0733',\n",
       " 'MEG 0732',\n",
       " 'MEG 0743',\n",
       " 'MEG 0742',\n",
       " 'MEG 0813',\n",
       " 'MEG 0812',\n",
       " 'MEG 0822',\n",
       " 'MEG 0823',\n",
       " 'MEG 0913',\n",
       " 'MEG 0912',\n",
       " 'MEG 0923',\n",
       " 'MEG 0922',\n",
       " 'MEG 0932',\n",
       " 'MEG 0933',\n",
       " 'MEG 0942',\n",
       " 'MEG 0943',\n",
       " 'MEG 1013',\n",
       " 'MEG 1012',\n",
       " 'MEG 1023',\n",
       " 'MEG 1022',\n",
       " 'MEG 1032',\n",
       " 'MEG 1033',\n",
       " 'MEG 1043',\n",
       " 'MEG 1042',\n",
       " 'MEG 1112',\n",
       " 'MEG 1113',\n",
       " 'MEG 1123',\n",
       " 'MEG 1122',\n",
       " 'MEG 1133',\n",
       " 'MEG 1132',\n",
       " 'MEG 1142',\n",
       " 'MEG 1143',\n",
       " 'MEG 1213',\n",
       " 'MEG 1212',\n",
       " 'MEG 1223',\n",
       " 'MEG 1222',\n",
       " 'MEG 1232',\n",
       " 'MEG 1233',\n",
       " 'MEG 1243',\n",
       " 'MEG 1242',\n",
       " 'MEG 1312',\n",
       " 'MEG 1313',\n",
       " 'MEG 1323',\n",
       " 'MEG 1322',\n",
       " 'MEG 1333',\n",
       " 'MEG 1332',\n",
       " 'MEG 1342',\n",
       " 'MEG 1343',\n",
       " 'MEG 1412',\n",
       " 'MEG 1413',\n",
       " 'MEG 1423',\n",
       " 'MEG 1422',\n",
       " 'MEG 1433',\n",
       " 'MEG 1432',\n",
       " 'MEG 1442',\n",
       " 'MEG 1443',\n",
       " 'MEG 1512',\n",
       " 'MEG 1513',\n",
       " 'MEG 1522',\n",
       " 'MEG 1523',\n",
       " 'MEG 1533',\n",
       " 'MEG 1532',\n",
       " 'MEG 1543',\n",
       " 'MEG 1542',\n",
       " 'MEG 1613',\n",
       " 'MEG 1612',\n",
       " 'MEG 1622',\n",
       " 'MEG 1623',\n",
       " 'MEG 1632',\n",
       " 'MEG 1633',\n",
       " 'MEG 1643',\n",
       " 'MEG 1642',\n",
       " 'MEG 1713',\n",
       " 'MEG 1712',\n",
       " 'MEG 1722',\n",
       " 'MEG 1723',\n",
       " 'MEG 1732',\n",
       " 'MEG 1733',\n",
       " 'MEG 1743',\n",
       " 'MEG 1742',\n",
       " 'MEG 1813',\n",
       " 'MEG 1812',\n",
       " 'MEG 1822',\n",
       " 'MEG 1823',\n",
       " 'MEG 1832',\n",
       " 'MEG 1833',\n",
       " 'MEG 1843',\n",
       " 'MEG 1842',\n",
       " 'MEG 1912',\n",
       " 'MEG 1913',\n",
       " 'MEG 1923',\n",
       " 'MEG 1922',\n",
       " 'MEG 1932',\n",
       " 'MEG 1933',\n",
       " 'MEG 1943',\n",
       " 'MEG 1942',\n",
       " 'MEG 2013',\n",
       " 'MEG 2012',\n",
       " 'MEG 2023',\n",
       " 'MEG 2022',\n",
       " 'MEG 2032',\n",
       " 'MEG 2033',\n",
       " 'MEG 2042',\n",
       " 'MEG 2043',\n",
       " 'MEG 2113',\n",
       " 'MEG 2112',\n",
       " 'MEG 2122',\n",
       " 'MEG 2123',\n",
       " 'MEG 2133',\n",
       " 'MEG 2132',\n",
       " 'MEG 2143',\n",
       " 'MEG 2142',\n",
       " 'MEG 2212',\n",
       " 'MEG 2213',\n",
       " 'MEG 2223',\n",
       " 'MEG 2222',\n",
       " 'MEG 2233',\n",
       " 'MEG 2232',\n",
       " 'MEG 2242',\n",
       " 'MEG 2243',\n",
       " 'MEG 2312',\n",
       " 'MEG 2313',\n",
       " 'MEG 2323',\n",
       " 'MEG 2322',\n",
       " 'MEG 2332',\n",
       " 'MEG 2333',\n",
       " 'MEG 2343',\n",
       " 'MEG 2342',\n",
       " 'MEG 2412',\n",
       " 'MEG 2413',\n",
       " 'MEG 2423',\n",
       " 'MEG 2422',\n",
       " 'MEG 2433',\n",
       " 'MEG 2432',\n",
       " 'MEG 2442',\n",
       " 'MEG 2443',\n",
       " 'MEG 2512',\n",
       " 'MEG 2513',\n",
       " 'MEG 2522',\n",
       " 'MEG 2523',\n",
       " 'MEG 2533',\n",
       " 'MEG 2532',\n",
       " 'MEG 2543',\n",
       " 'MEG 2542',\n",
       " 'MEG 2612',\n",
       " 'MEG 2613',\n",
       " 'MEG 2623',\n",
       " 'MEG 2622',\n",
       " 'MEG 2633',\n",
       " 'MEG 2632',\n",
       " 'MEG 2642',\n",
       " 'MEG 2643']"
      ]
     },
     "execution_count": 29,
     "metadata": {},
     "output_type": "execute_result"
    }
   ],
   "source": [
    "ch_names"
   ]
  },
  {
   "cell_type": "code",
   "execution_count": 30,
   "metadata": {},
   "outputs": [
    {
     "name": "stdout",
     "output_type": "stream",
     "text": [
      "Reading adjacency matrix for neuromag306planar.\n"
     ]
    }
   ],
   "source": [
    "# find_ch_adjacency first attempts to find an existing \"neighbor\"\n",
    "# (adjacency) file for given sensor layout.\n",
    "# If such a file doesn't exist, an adjacency matrix is computed on the fly,\n",
    "# using Delaunay triangulations.\n",
    "sensor_adjacency, ch_names = mne.channels.find_ch_adjacency(\n",
    "    tfr_epochs.info, 'grad')"
   ]
  },
  {
   "cell_type": "code",
   "execution_count": 31,
   "metadata": {},
   "outputs": [
    {
     "data": {
      "text/plain": [
       "204"
      ]
     },
     "execution_count": 31,
     "metadata": {},
     "output_type": "execute_result"
    }
   ],
   "source": [
    "len(ch_names)"
   ]
  },
  {
   "cell_type": "code",
   "execution_count": 32,
   "metadata": {},
   "outputs": [
    {
     "data": {
      "text/plain": [
       "'MEG,0113'"
      ]
     },
     "execution_count": 32,
     "metadata": {},
     "output_type": "execute_result"
    }
   ],
   "source": [
    "ch_names[0].replace(' ', ',')"
   ]
  },
  {
   "cell_type": "code",
   "execution_count": 33,
   "metadata": {},
   "outputs": [
    {
     "ename": "NameError",
     "evalue": "name 'ch_name' is not defined",
     "output_type": "error",
     "traceback": [
      "\u001b[1;31m---------------------------------------------------------------------------\u001b[0m",
      "\u001b[1;31mNameError\u001b[0m                                 Traceback (most recent call last)",
      "\u001b[1;32m~\\AppData\\Local\\Temp/ipykernel_16820/2939972561.py\u001b[0m in \u001b[0;36m<module>\u001b[1;34m\u001b[0m\n\u001b[1;32m----> 1\u001b[1;33m \u001b[0mch_name\u001b[0m\u001b[1;33m.\u001b[0m\u001b[0mreplace\u001b[0m\u001b[1;33m(\u001b[0m\u001b[1;34m' '\u001b[0m\u001b[1;33m,\u001b[0m \u001b[1;34m''\u001b[0m\u001b[1;33m)\u001b[0m\u001b[1;33m\u001b[0m\u001b[1;33m\u001b[0m\u001b[0m\n\u001b[0m",
      "\u001b[1;31mNameError\u001b[0m: name 'ch_name' is not defined"
     ]
    }
   ],
   "source": [
    "ch_name.replace(' ', '')"
   ]
  },
  {
   "cell_type": "code",
   "execution_count": null,
   "metadata": {},
   "outputs": [],
   "source": [
    "len(tfr_epochs.ch_names)"
   ]
  },
  {
   "cell_type": "code",
   "execution_count": 38,
   "metadata": {},
   "outputs": [],
   "source": [
    "# In this case, find_ch_adjacency finds an appropriate file and\n",
    "# reads it (see log output: \"neuromag306planar\").\n",
    "# However, we need to subselect the channels we are actually using\n",
    "#use_idx = [ch_names.index(ch_name.replace(' ', ''))\n",
    "#           for ch_name in tfr_epochs.ch_names]\n",
    "use_idx = np.arange(0,len(ch_names))\n"
   ]
  },
  {
   "cell_type": "code",
   "execution_count": 39,
   "metadata": {},
   "outputs": [
    {
     "ename": "AssertionError",
     "evalue": "",
     "output_type": "error",
     "traceback": [
      "\u001b[1;31m---------------------------------------------------------------------------\u001b[0m",
      "\u001b[1;31mAssertionError\u001b[0m                            Traceback (most recent call last)",
      "\u001b[1;32m~\\AppData\\Local\\Temp/ipykernel_16820/2072069662.py\u001b[0m in \u001b[0;36m<module>\u001b[1;34m\u001b[0m\n\u001b[0;32m      2\u001b[0m \u001b[1;33m\u001b[0m\u001b[0m\n\u001b[0;32m      3\u001b[0m \u001b[1;31m# Our sensor adjacency matrix is of shape n_chs × n_chs\u001b[0m\u001b[1;33m\u001b[0m\u001b[1;33m\u001b[0m\u001b[1;33m\u001b[0m\u001b[0m\n\u001b[1;32m----> 4\u001b[1;33m \u001b[1;32massert\u001b[0m \u001b[0msensor_adjacency\u001b[0m\u001b[1;33m.\u001b[0m\u001b[0mshape\u001b[0m \u001b[1;33m==\u001b[0m\u001b[0;31m \u001b[0m\u001b[0;31m\\\u001b[0m\u001b[1;33m\u001b[0m\u001b[1;33m\u001b[0m\u001b[0m\n\u001b[0m\u001b[0;32m      5\u001b[0m     \u001b[1;33m(\u001b[0m\u001b[0mlen\u001b[0m\u001b[1;33m(\u001b[0m\u001b[0mtfr_epochs\u001b[0m\u001b[1;33m.\u001b[0m\u001b[0mch_names\u001b[0m\u001b[1;33m)\u001b[0m\u001b[1;33m,\u001b[0m \u001b[0mlen\u001b[0m\u001b[1;33m(\u001b[0m\u001b[0mtfr_epochs\u001b[0m\u001b[1;33m.\u001b[0m\u001b[0mch_names\u001b[0m\u001b[1;33m)\u001b[0m\u001b[1;33m)\u001b[0m\u001b[1;33m\u001b[0m\u001b[1;33m\u001b[0m\u001b[0m\n",
      "\u001b[1;31mAssertionError\u001b[0m: "
     ]
    }
   ],
   "source": [
    "sensor_adjacency = sensor_adjacency[use_idx][:, use_idx]\n",
    "\n",
    "# Our sensor adjacency matrix is of shape n_chs × n_chs\n",
    "assert sensor_adjacency.shape == \\\n",
    "    (len(tfr_epochs.ch_names), len(tfr_epochs.ch_names))"
   ]
  },
  {
   "cell_type": "code",
   "execution_count": 23,
   "metadata": {},
   "outputs": [
    {
     "ename": "AssertionError",
     "evalue": "",
     "output_type": "error",
     "traceback": [
      "\u001b[1;31m---------------------------------------------------------------------------\u001b[0m",
      "\u001b[1;31mAssertionError\u001b[0m                            Traceback (most recent call last)",
      "\u001b[1;32m~\\AppData\\Local\\Temp/ipykernel_16820/1615388278.py\u001b[0m in \u001b[0;36m<module>\u001b[1;34m\u001b[0m\n\u001b[0;32m     12\u001b[0m \u001b[1;31m# dimension matching the data size (excluding observations) in an\u001b[0m\u001b[1;33m\u001b[0m\u001b[1;33m\u001b[0m\u001b[1;33m\u001b[0m\u001b[0m\n\u001b[0;32m     13\u001b[0m \u001b[1;31m# \"unrolled\" format, so: len(channels × frequencies × times)\u001b[0m\u001b[1;33m\u001b[0m\u001b[1;33m\u001b[0m\u001b[1;33m\u001b[0m\u001b[0m\n\u001b[1;32m---> 14\u001b[1;33m \u001b[1;32massert\u001b[0m \u001b[0madjacency\u001b[0m\u001b[1;33m.\u001b[0m\u001b[0mshape\u001b[0m\u001b[1;33m[\u001b[0m\u001b[1;36m0\u001b[0m\u001b[1;33m]\u001b[0m \u001b[1;33m==\u001b[0m \u001b[0madjacency\u001b[0m\u001b[1;33m.\u001b[0m\u001b[0mshape\u001b[0m\u001b[1;33m[\u001b[0m\u001b[1;36m1\u001b[0m\u001b[1;33m]\u001b[0m \u001b[1;33m==\u001b[0m\u001b[0;31m \u001b[0m\u001b[0;31m\\\u001b[0m\u001b[1;33m\u001b[0m\u001b[1;33m\u001b[0m\u001b[0m\n\u001b[0m\u001b[0;32m     15\u001b[0m     \u001b[0mlen\u001b[0m\u001b[1;33m(\u001b[0m\u001b[0mtfr_epochs\u001b[0m\u001b[1;33m.\u001b[0m\u001b[0mch_names\u001b[0m\u001b[1;33m)\u001b[0m \u001b[1;33m*\u001b[0m \u001b[0mlen\u001b[0m\u001b[1;33m(\u001b[0m\u001b[0mtfr_epochs\u001b[0m\u001b[1;33m.\u001b[0m\u001b[0mfreqs\u001b[0m\u001b[1;33m)\u001b[0m \u001b[1;33m*\u001b[0m \u001b[0mlen\u001b[0m\u001b[1;33m(\u001b[0m\u001b[0mtfr_epochs\u001b[0m\u001b[1;33m.\u001b[0m\u001b[0mtimes\u001b[0m\u001b[1;33m)\u001b[0m\u001b[1;33m\u001b[0m\u001b[1;33m\u001b[0m\u001b[0m\n",
      "\u001b[1;31mAssertionError\u001b[0m: "
     ]
    }
   ],
   "source": [
    "# Now we need to prepare adjacency information for the time-frequency\n",
    "# plane. For that, we use \"combine_adjacency\", and pass dimensions\n",
    "# as in the data we want to test (excluding observations). Here:\n",
    "# channels × frequencies × times\n",
    "assert epochs_power.data.shape == (\n",
    "    len(epochs), len(tfr_epochs.ch_names),\n",
    "    len(tfr_epochs.freqs), len(tfr_epochs.times))\n",
    "adjacency = mne.stats.combine_adjacency(\n",
    "    sensor_adjacency, len(tfr_epochs.freqs), len(tfr_epochs.times))\n",
    "\n",
    "# The overall adjacency we end up with is a square matrix with each\n",
    "# dimension matching the data size (excluding observations) in an\n",
    "# \"unrolled\" format, so: len(channels × frequencies × times)\n",
    "assert adjacency.shape[0] == adjacency.shape[1] == \\\n",
    "    len(tfr_epochs.ch_names) * len(tfr_epochs.freqs) * len(tfr_epochs.times)"
   ]
  },
  {
   "cell_type": "code",
   "execution_count": 24,
   "metadata": {},
   "outputs": [
    {
     "data": {
      "text/plain": [
       "<355776x355776 sparse matrix of type '<class 'numpy.float64'>'\n",
       "\twith 4336904 stored elements in COOrdinate format>"
      ]
     },
     "execution_count": 24,
     "metadata": {},
     "output_type": "execute_result"
    }
   ],
   "source": [
    " adjacency"
   ]
  },
  {
   "cell_type": "markdown",
   "metadata": {},
   "source": [
    "## Compute statistic\n",
    "For forming clusters, we need to specify a critical test statistic threshold.\n",
    "Only data bins exceeding this threshold will be used to form clusters.\n",
    "\n",
    "Here, we\n",
    "use a t-test and can make use of Scipy's percent point function of the t\n",
    "distribution to get a t-value that corresponds to a specific alpha level\n",
    "for significance. This threshold is often called the\n",
    "\"cluster forming threshold\".\n",
    "\n",
    "<div class=\"alert alert-info\"><h4>Note</h4><p>The choice of the threshold is more or less arbitrary. Choosing\n",
    "   a t-value corresponding to p=0.05, p=0.01, or p=0.001 may often provide\n",
    "   a good starting point. Depending on the specific dataset you are working\n",
    "   with, you may need to adjust the threshold.</p></div>\n",
    "\n"
   ]
  },
  {
   "cell_type": "code",
   "execution_count": 25,
   "metadata": {},
   "outputs": [
    {
     "ename": "ValueError",
     "evalue": "adjacency (len 355776) must be of the correct size, i.e. be equal to or evenly divide the number of tests (45344).\n\nIf adjacency was computed for a source space, try using the fwd[\"src\"] or inv[\"src\"] as some original source space vertices can be excluded during forward computation",
     "output_type": "error",
     "traceback": [
      "\u001b[1;31m---------------------------------------------------------------------------\u001b[0m",
      "\u001b[1;31mValueError\u001b[0m                                Traceback (most recent call last)",
      "\u001b[1;32m~\\AppData\\Local\\Temp/ipykernel_16820/2852432285.py\u001b[0m in \u001b[0;36m<module>\u001b[1;34m\u001b[0m\n\u001b[0;32m     22\u001b[0m \u001b[1;31m# Run the analysis\u001b[0m\u001b[1;33m\u001b[0m\u001b[1;33m\u001b[0m\u001b[1;33m\u001b[0m\u001b[0m\n\u001b[0;32m     23\u001b[0m \u001b[0mT_obs\u001b[0m\u001b[1;33m,\u001b[0m \u001b[0mclusters\u001b[0m\u001b[1;33m,\u001b[0m \u001b[0mcluster_p_values\u001b[0m\u001b[1;33m,\u001b[0m \u001b[0mH0\u001b[0m \u001b[1;33m=\u001b[0m\u001b[0;31m \u001b[0m\u001b[0;31m\\\u001b[0m\u001b[1;33m\u001b[0m\u001b[1;33m\u001b[0m\u001b[0m\n\u001b[1;32m---> 24\u001b[1;33m     permutation_cluster_1samp_test(epochs_power, n_permutations=n_permutations,\n\u001b[0m\u001b[0;32m     25\u001b[0m                                    \u001b[0mthreshold\u001b[0m\u001b[1;33m=\u001b[0m\u001b[0mt_thresh\u001b[0m\u001b[1;33m,\u001b[0m \u001b[0mtail\u001b[0m\u001b[1;33m=\u001b[0m\u001b[0mtail\u001b[0m\u001b[1;33m,\u001b[0m\u001b[1;33m\u001b[0m\u001b[1;33m\u001b[0m\u001b[0m\n\u001b[0;32m     26\u001b[0m                                    \u001b[0madjacency\u001b[0m\u001b[1;33m=\u001b[0m\u001b[0madjacency\u001b[0m\u001b[1;33m,\u001b[0m\u001b[1;33m\u001b[0m\u001b[1;33m\u001b[0m\u001b[0m\n",
      "\u001b[1;32m<decorator-gen-339>\u001b[0m in \u001b[0;36mpermutation_cluster_1samp_test\u001b[1;34m(X, threshold, n_permutations, tail, stat_fun, adjacency, n_jobs, seed, max_step, exclude, step_down_p, t_power, out_type, check_disjoint, buffer_size, verbose)\u001b[0m\n",
      "\u001b[1;32mc:\\users\\john_griffiths\\desktop\\eeg_workshop_sess3\\mne-python\\mne\\stats\\cluster_level.py\u001b[0m in \u001b[0;36mpermutation_cluster_1samp_test\u001b[1;34m(X, threshold, n_permutations, tail, stat_fun, adjacency, n_jobs, seed, max_step, exclude, step_down_p, t_power, out_type, check_disjoint, buffer_size, verbose)\u001b[0m\n\u001b[0;32m   1210\u001b[0m     \"\"\"\n\u001b[0;32m   1211\u001b[0m     \u001b[0mstat_fun\u001b[0m\u001b[1;33m,\u001b[0m \u001b[0mthreshold\u001b[0m \u001b[1;33m=\u001b[0m \u001b[0m_check_fun\u001b[0m\u001b[1;33m(\u001b[0m\u001b[0mX\u001b[0m\u001b[1;33m,\u001b[0m \u001b[0mstat_fun\u001b[0m\u001b[1;33m,\u001b[0m \u001b[0mthreshold\u001b[0m\u001b[1;33m,\u001b[0m \u001b[0mtail\u001b[0m\u001b[1;33m)\u001b[0m\u001b[1;33m\u001b[0m\u001b[1;33m\u001b[0m\u001b[0m\n\u001b[1;32m-> 1212\u001b[1;33m     return _permutation_cluster_test(\n\u001b[0m\u001b[0;32m   1213\u001b[0m         \u001b[0mX\u001b[0m\u001b[1;33m=\u001b[0m\u001b[1;33m[\u001b[0m\u001b[0mX\u001b[0m\u001b[1;33m]\u001b[0m\u001b[1;33m,\u001b[0m \u001b[0mthreshold\u001b[0m\u001b[1;33m=\u001b[0m\u001b[0mthreshold\u001b[0m\u001b[1;33m,\u001b[0m \u001b[0mn_permutations\u001b[0m\u001b[1;33m=\u001b[0m\u001b[0mn_permutations\u001b[0m\u001b[1;33m,\u001b[0m \u001b[0mtail\u001b[0m\u001b[1;33m=\u001b[0m\u001b[0mtail\u001b[0m\u001b[1;33m,\u001b[0m\u001b[1;33m\u001b[0m\u001b[1;33m\u001b[0m\u001b[0m\n\u001b[0;32m   1214\u001b[0m         \u001b[0mstat_fun\u001b[0m\u001b[1;33m=\u001b[0m\u001b[0mstat_fun\u001b[0m\u001b[1;33m,\u001b[0m \u001b[0madjacency\u001b[0m\u001b[1;33m=\u001b[0m\u001b[0madjacency\u001b[0m\u001b[1;33m,\u001b[0m \u001b[0mn_jobs\u001b[0m\u001b[1;33m=\u001b[0m\u001b[0mn_jobs\u001b[0m\u001b[1;33m,\u001b[0m \u001b[0mseed\u001b[0m\u001b[1;33m=\u001b[0m\u001b[0mseed\u001b[0m\u001b[1;33m,\u001b[0m\u001b[1;33m\u001b[0m\u001b[1;33m\u001b[0m\u001b[0m\n",
      "\u001b[1;32mc:\\users\\john_griffiths\\desktop\\eeg_workshop_sess3\\mne-python\\mne\\stats\\cluster_level.py\u001b[0m in \u001b[0;36m_permutation_cluster_test\u001b[1;34m(X, threshold, n_permutations, tail, stat_fun, adjacency, n_jobs, seed, max_step, exclude, step_down_p, t_power, out_type, check_disjoint, buffer_size)\u001b[0m\n\u001b[0;32m    864\u001b[0m \u001b[1;33m\u001b[0m\u001b[0m\n\u001b[0;32m    865\u001b[0m     \u001b[1;32mif\u001b[0m \u001b[0madjacency\u001b[0m \u001b[1;32mis\u001b[0m \u001b[1;32mnot\u001b[0m \u001b[1;32mNone\u001b[0m \u001b[1;32mand\u001b[0m \u001b[0madjacency\u001b[0m \u001b[1;32mis\u001b[0m \u001b[1;32mnot\u001b[0m \u001b[1;32mFalse\u001b[0m\u001b[1;33m:\u001b[0m\u001b[1;33m\u001b[0m\u001b[1;33m\u001b[0m\u001b[0m\n\u001b[1;32m--> 866\u001b[1;33m         \u001b[0madjacency\u001b[0m \u001b[1;33m=\u001b[0m \u001b[0m_setup_adjacency\u001b[0m\u001b[1;33m(\u001b[0m\u001b[0madjacency\u001b[0m\u001b[1;33m,\u001b[0m \u001b[0mn_tests\u001b[0m\u001b[1;33m,\u001b[0m \u001b[0mn_times\u001b[0m\u001b[1;33m)\u001b[0m\u001b[1;33m\u001b[0m\u001b[1;33m\u001b[0m\u001b[0m\n\u001b[0m\u001b[0;32m    867\u001b[0m \u001b[1;33m\u001b[0m\u001b[0m\n\u001b[0;32m    868\u001b[0m     \u001b[1;32mif\u001b[0m \u001b[1;33m(\u001b[0m\u001b[0mexclude\u001b[0m \u001b[1;32mis\u001b[0m \u001b[1;32mnot\u001b[0m \u001b[1;32mNone\u001b[0m\u001b[1;33m)\u001b[0m \u001b[1;32mand\u001b[0m \u001b[1;32mnot\u001b[0m \u001b[0mexclude\u001b[0m\u001b[1;33m.\u001b[0m\u001b[0msize\u001b[0m \u001b[1;33m==\u001b[0m \u001b[0mn_tests\u001b[0m\u001b[1;33m:\u001b[0m\u001b[1;33m\u001b[0m\u001b[1;33m\u001b[0m\u001b[0m\n",
      "\u001b[1;32mc:\\users\\john_griffiths\\desktop\\eeg_workshop_sess3\\mne-python\\mne\\stats\\cluster_level.py\u001b[0m in \u001b[0;36m_setup_adjacency\u001b[1;34m(adjacency, n_tests, n_times)\u001b[0m\n\u001b[0;32m    604\u001b[0m         \u001b[0mgot_times\u001b[0m\u001b[1;33m,\u001b[0m \u001b[0mmod\u001b[0m \u001b[1;33m=\u001b[0m \u001b[0mdivmod\u001b[0m\u001b[1;33m(\u001b[0m\u001b[0mn_tests\u001b[0m\u001b[1;33m,\u001b[0m \u001b[0madjacency\u001b[0m\u001b[1;33m.\u001b[0m\u001b[0mshape\u001b[0m\u001b[1;33m[\u001b[0m\u001b[1;36m0\u001b[0m\u001b[1;33m]\u001b[0m\u001b[1;33m)\u001b[0m\u001b[1;33m\u001b[0m\u001b[1;33m\u001b[0m\u001b[0m\n\u001b[0;32m    605\u001b[0m         \u001b[1;32mif\u001b[0m \u001b[0mgot_times\u001b[0m \u001b[1;33m!=\u001b[0m \u001b[0mn_times\u001b[0m \u001b[1;32mor\u001b[0m \u001b[0mmod\u001b[0m \u001b[1;33m!=\u001b[0m \u001b[1;36m0\u001b[0m\u001b[1;33m:\u001b[0m\u001b[1;33m\u001b[0m\u001b[1;33m\u001b[0m\u001b[0m\n\u001b[1;32m--> 606\u001b[1;33m             raise ValueError(\n\u001b[0m\u001b[0;32m    607\u001b[0m                 \u001b[1;34m'adjacency (len %d) must be of the correct size, i.e. be '\u001b[0m\u001b[1;33m\u001b[0m\u001b[1;33m\u001b[0m\u001b[0m\n\u001b[0;32m    608\u001b[0m                 \u001b[1;34m'equal to or evenly divide the number of tests (%d).\\n\\n'\u001b[0m\u001b[1;33m\u001b[0m\u001b[1;33m\u001b[0m\u001b[0m\n",
      "\u001b[1;31mValueError\u001b[0m: adjacency (len 355776) must be of the correct size, i.e. be equal to or evenly divide the number of tests (45344).\n\nIf adjacency was computed for a source space, try using the fwd[\"src\"] or inv[\"src\"] as some original source space vertices can be excluded during forward computation"
     ]
    }
   ],
   "source": [
    "# We want a two-tailed test\n",
    "tail = 0\n",
    "\n",
    "# In this example, we wish to set the threshold for including data bins in\n",
    "# the cluster forming process to the t-value corresponding to p=0.001 for the\n",
    "# given data.\n",
    "#\n",
    "# Because we conduct a two-tailed test, we divide the p-value by 2 (which means\n",
    "# we're making use of both tails of the distribution).\n",
    "# As the degrees of freedom, we specify the number of observations\n",
    "# (here: epochs) minus 1.\n",
    "# Finally, we subtract 0.001 / 2 from 1, to get the critical t-value\n",
    "# on the right tail (this is needed for MNE-Python internals)\n",
    "degrees_of_freedom = len(epochs) - 1\n",
    "t_thresh = scipy.stats.t.ppf(1 - 0.001 / 2, df=degrees_of_freedom)\n",
    "\n",
    "# Set the number of permutations to run.\n",
    "# Warning: 50 is way too small for a real-world analysis (where values of 5000\n",
    "# or higher are used), but here we use it to increase the computation speed.\n",
    "n_permutations = 50\n",
    "\n",
    "# Run the analysis\n",
    "T_obs, clusters, cluster_p_values, H0 = \\\n",
    "    permutation_cluster_1samp_test(epochs_power, n_permutations=n_permutations,\n",
    "                                   threshold=t_thresh, tail=tail,\n",
    "                                   adjacency=adjacency,\n",
    "                                   out_type='mask', verbose=True)"
   ]
  },
  {
   "cell_type": "markdown",
   "metadata": {},
   "source": [
    "## View time-frequency plots\n",
    "We now visualize the observed clusters that are statistically significant\n",
    "under our permutation distribution.\n",
    "\n",
    "<div class=\"alert alert-danger\"><h4>Warning</h4><p>Talking about \"significant clusters\" can be convenient, but\n",
    "             you must be aware of all associated caveats! For example, it\n",
    "             is **invalid** to interpret the cluster p value as being\n",
    "             spatially or temporally specific. A cluster with sufficiently\n",
    "             low (for example < 0.05) p value at specific location does not\n",
    "             allow you to say that the significant effect is at that\n",
    "             particular location. The p value only tells you about the\n",
    "             probability of obtaining similar or stronger/larger cluster\n",
    "             anywhere in the data if there were no differences between the\n",
    "             compared conditions. So it only allows you to draw conclusions\n",
    "             about the differences in the data \"in general\", not at specific\n",
    "             locations. See the comprehensive\n",
    "             [FieldTrip tutorial](ft_cluster_) for more information.\n",
    "             [FieldTrip tutorial](ft_cluster_) for more information.</p></div>\n",
    "\n",
    ".. include:: ../../links.inc\n",
    "\n"
   ]
  },
  {
   "cell_type": "code",
   "execution_count": null,
   "metadata": {},
   "outputs": [],
   "source": [
    "evoked_data = evoked.data\n",
    "times = 1e3 * evoked.times\n",
    "\n",
    "plt.figure()\n",
    "plt.subplots_adjust(0.12, 0.08, 0.96, 0.94, 0.2, 0.43)\n",
    "\n",
    "T_obs_plot = np.nan * np.ones_like(T_obs)\n",
    "for c, p_val in zip(clusters, cluster_p_values):\n",
    "    if p_val <= 0.05:\n",
    "        T_obs_plot[c] = T_obs[c]\n",
    "\n",
    "# Just plot one channel's data\n",
    "# use the following to show a specific one:\n",
    "# ch_idx = tfr_epochs.ch_names.index('MEG 1332')\n",
    "ch_idx, f_idx, t_idx = np.unravel_index(\n",
    "    np.nanargmax(np.abs(T_obs_plot)), epochs_power.shape[1:])\n",
    "\n",
    "vmax = np.max(np.abs(T_obs))\n",
    "vmin = -vmax\n",
    "plt.subplot(2, 1, 1)\n",
    "plt.imshow(T_obs[ch_idx], cmap=plt.cm.gray,\n",
    "           extent=[times[0], times[-1], freqs[0], freqs[-1]],\n",
    "           aspect='auto', origin='lower', vmin=vmin, vmax=vmax)\n",
    "plt.imshow(T_obs_plot[ch_idx], cmap=plt.cm.RdBu_r,\n",
    "           extent=[times[0], times[-1], freqs[0], freqs[-1]],\n",
    "           aspect='auto', origin='lower', vmin=vmin, vmax=vmax)\n",
    "plt.colorbar()\n",
    "plt.xlabel('Time (ms)')\n",
    "plt.ylabel('Frequency (Hz)')\n",
    "plt.title(f'Induced power ({tfr_epochs.ch_names[ch_idx]})')\n",
    "\n",
    "ax2 = plt.subplot(2, 1, 2)\n",
    "evoked.plot(axes=[ax2], time_unit='s')\n",
    "plt.show()"
   ]
  },
  {
   "cell_type": "code",
   "execution_count": null,
   "metadata": {},
   "outputs": [],
   "source": []
  }
 ],
 "metadata": {
  "kernelspec": {
   "display_name": "mne",
   "language": "python",
   "name": "mne"
  },
  "language_info": {
   "codemirror_mode": {
    "name": "ipython",
    "version": 3
   },
   "file_extension": ".py",
   "mimetype": "text/x-python",
   "name": "python",
   "nbconvert_exporter": "python",
   "pygments_lexer": "ipython3",
   "version": "3.9.6"
  }
 },
 "nbformat": 4,
 "nbformat_minor": 1
}
